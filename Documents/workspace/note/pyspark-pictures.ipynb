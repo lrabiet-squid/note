version https://git-lfs.github.com/spec/v1
oid sha256:7833e8289ec9cf9b861a8e1886caff502b5642b156a1bd7c11514f8e7e354769
size 65962
